{
 "cells": [
  {
   "cell_type": "code",
   "execution_count": 1,
   "id": "603fcfc5-da3d-4fde-9a4f-5765305ec1a4",
   "metadata": {},
   "outputs": [
    {
     "name": "stdout",
     "output_type": "stream",
     "text": [
      "d:\\DMC\\GCP_VertexAI_pipeline\n"
     ]
    }
   ],
   "source": [
    "%cd .."
   ]
  },
  {
   "cell_type": "markdown",
   "id": "7d8066a1",
   "metadata": {},
   "source": [
    "# CREATE REPOSITORY IN ARTIFACT REGISTRY"
   ]
  },
  {
   "cell_type": "code",
   "execution_count": 4,
   "id": "054b9050",
   "metadata": {},
   "outputs": [
    {
     "name": "stdout",
     "output_type": "stream",
     "text": [
      "Create request issued for: [mle-template]\n",
      "Waiting for operation [projects/phrasal-talon-440215-i4/locations/us-central1/o\n",
      "perations/3f7f7b1d-dbdf-41f7-9349-b307d26646c5] to complete...done.            \n",
      "Created repository [mle-template].\n",
      "\n",
      "\n",
      "Updates are available for some Google Cloud CLI components.  To install them,\n",
      "please run:\n",
      "  $ gcloud components update\n",
      "\n"
     ]
    }
   ],
   "source": [
    "import json\n",
    "file   = open('custom_prediction/config.json')\n",
    "config = json.load(file)\n",
    "\n",
    "import os\n",
    "# Adjust the path according to your actual 'credentials.json' file location\n",
    "credentials_path = 'key/credentials.json'\n",
    "# Set the GOOGLE_APPLICATION_CREDENTIALS environment variable\n",
    "os.environ['GOOGLE_APPLICATION_CREDENTIALS'] = credentials_path\n",
    "\n",
    "PROJECT_ID = config[\"PIPELINE_PROJECT_ID\"]\n",
    "REGION     = config[\"PIPELINE_REGION\"]\n",
    "REPO       = config[\"PIPELINE_METADATA\"][\"value\"]\n",
    "IMAGE_NAME = config[\"PIPELINE_METADATA\"][\"value\"]\n",
    "\n",
    "TAG='latest'\n",
    "\n",
    "# For artifact repositories\n",
    "# Crea un repositorio nuevo de Artifact Registry:\n",
    "!gcloud artifacts repositories create $REPO --repository-format=docker --location=$REGION"
   ]
  },
  {
   "cell_type": "markdown",
   "id": "24c893f5-7db7-4518-a2f9-14d049a4ca28",
   "metadata": {},
   "source": [
    "# CREATE IMAGE"
   ]
  },
  {
   "cell_type": "code",
   "execution_count": 6,
   "id": "801853a9-107c-4b79-b23d-e939c720e2bd",
   "metadata": {
    "collapsed": true,
    "jupyter": {
     "outputs_hidden": true
    },
    "tags": []
   },
   "outputs": [
    {
     "name": "stdout",
     "output_type": "stream",
     "text": [
      "\u001b[1;31mERROR:\u001b[0m (gcloud.builds.submit) Invalid value for [source]: Dockerfile required when specifying --tag\n"
     ]
    }
   ],
   "source": [
    "import json\n",
    "file   = open('custom_prediction/config.json')\n",
    "config = json.load(file)\n",
    "\n",
    "PROJECT_ID = config[\"PIPELINE_PROJECT_ID\"]\n",
    "REGION     = config[\"PIPELINE_REGION\"]\n",
    "REPO       = config[\"PIPELINE_METADATA\"][\"value\"]\n",
    "IMAGE_NAME = config[\"PIPELINE_METADATA\"][\"value\"]\n",
    "\n",
    "TAG='latest'\n",
    "\n",
    "!gcloud builds submit -t $REGION-docker.pkg.dev/$PROJECT_ID/$REPO/$IMAGE_NAME:$TAG .\n",
    "# !docker build -t us-east4-docker.pkg.dev/astral-reef-391421/mle-template/mle-template:latest ."
   ]
  },
  {
   "cell_type": "markdown",
   "id": "49b5dba7-c804-4d25-b7c0-a269fd289e32",
   "metadata": {},
   "source": [
    "# RUN APP.PY"
   ]
  },
  {
   "cell_type": "code",
   "execution_count": 9,
   "id": "d87410b6",
   "metadata": {},
   "outputs": [
    {
     "name": "stdout",
     "output_type": "stream",
     "text": [
      "Collecting google-cloud-aiplatform\n",
      "  Downloading google_cloud_aiplatform-1.41.0-py2.py3-none-any.whl.metadata (27 kB)\n",
      "Requirement already satisfied: google-api-core!=2.0.*,!=2.1.*,!=2.2.*,!=2.3.*,!=2.4.*,!=2.5.*,!=2.6.*,!=2.7.*,<3.0.0dev,>=1.32.0 in c:\\users\\usuario\\appdata\\local\\packages\\pythonsoftwarefoundation.python.3.10_qbz5n2kfra8p0\\localcache\\local-packages\\python310\\site-packages (from google-api-core[grpc]!=2.0.*,!=2.1.*,!=2.2.*,!=2.3.*,!=2.4.*,!=2.5.*,!=2.6.*,!=2.7.*,<3.0.0dev,>=1.32.0->google-cloud-aiplatform) (2.11.1)\n",
      "Requirement already satisfied: proto-plus<2.0.0dev,>=1.22.0 in c:\\users\\usuario\\appdata\\local\\packages\\pythonsoftwarefoundation.python.3.10_qbz5n2kfra8p0\\localcache\\local-packages\\python310\\site-packages (from google-cloud-aiplatform) (1.22.3)\n",
      "Requirement already satisfied: protobuf!=3.20.0,!=3.20.1,!=4.21.0,!=4.21.1,!=4.21.2,!=4.21.3,!=4.21.4,!=4.21.5,<5.0.0dev,>=3.19.5 in c:\\users\\usuario\\appdata\\local\\packages\\pythonsoftwarefoundation.python.3.10_qbz5n2kfra8p0\\localcache\\local-packages\\python310\\site-packages (from google-cloud-aiplatform) (4.23.4)\n",
      "Requirement already satisfied: packaging>=14.3 in c:\\users\\usuario\\appdata\\local\\packages\\pythonsoftwarefoundation.python.3.10_qbz5n2kfra8p0\\localcache\\local-packages\\python310\\site-packages (from google-cloud-aiplatform) (23.1)\n",
      "Requirement already satisfied: google-cloud-storage<3.0.0dev,>=1.32.0 in c:\\users\\usuario\\appdata\\local\\packages\\pythonsoftwarefoundation.python.3.10_qbz5n2kfra8p0\\localcache\\local-packages\\python310\\site-packages (from google-cloud-aiplatform) (2.14.0)\n",
      "Collecting google-cloud-bigquery<4.0.0dev,>=1.15.0 (from google-cloud-aiplatform)\n",
      "  Downloading google_cloud_bigquery-3.17.2-py2.py3-none-any.whl.metadata (8.8 kB)\n",
      "Collecting google-cloud-resource-manager<3.0.0dev,>=1.3.3 (from google-cloud-aiplatform)\n",
      "  Downloading google_cloud_resource_manager-1.12.1-py2.py3-none-any.whl.metadata (5.3 kB)\n",
      "Collecting shapely<3.0.0dev (from google-cloud-aiplatform)\n",
      "  Downloading shapely-2.0.2-cp310-cp310-win_amd64.whl.metadata (7.2 kB)\n",
      "Requirement already satisfied: googleapis-common-protos<2.0.dev0,>=1.56.2 in c:\\users\\usuario\\appdata\\local\\packages\\pythonsoftwarefoundation.python.3.10_qbz5n2kfra8p0\\localcache\\local-packages\\python310\\site-packages (from google-api-core!=2.0.*,!=2.1.*,!=2.2.*,!=2.3.*,!=2.4.*,!=2.5.*,!=2.6.*,!=2.7.*,<3.0.0dev,>=1.32.0->google-api-core[grpc]!=2.0.*,!=2.1.*,!=2.2.*,!=2.3.*,!=2.4.*,!=2.5.*,!=2.6.*,!=2.7.*,<3.0.0dev,>=1.32.0->google-cloud-aiplatform) (1.59.1)\n",
      "Requirement already satisfied: google-auth<3.0.dev0,>=2.14.1 in c:\\users\\usuario\\appdata\\local\\packages\\pythonsoftwarefoundation.python.3.10_qbz5n2kfra8p0\\localcache\\local-packages\\python310\\site-packages (from google-api-core!=2.0.*,!=2.1.*,!=2.2.*,!=2.3.*,!=2.4.*,!=2.5.*,!=2.6.*,!=2.7.*,<3.0.0dev,>=1.32.0->google-api-core[grpc]!=2.0.*,!=2.1.*,!=2.2.*,!=2.3.*,!=2.4.*,!=2.5.*,!=2.6.*,!=2.7.*,<3.0.0dev,>=1.32.0->google-cloud-aiplatform) (2.27.0)\n",
      "Requirement already satisfied: requests<3.0.0.dev0,>=2.18.0 in c:\\users\\usuario\\appdata\\local\\packages\\pythonsoftwarefoundation.python.3.10_qbz5n2kfra8p0\\localcache\\local-packages\\python310\\site-packages (from google-api-core!=2.0.*,!=2.1.*,!=2.2.*,!=2.3.*,!=2.4.*,!=2.5.*,!=2.6.*,!=2.7.*,<3.0.0dev,>=1.32.0->google-api-core[grpc]!=2.0.*,!=2.1.*,!=2.2.*,!=2.3.*,!=2.4.*,!=2.5.*,!=2.6.*,!=2.7.*,<3.0.0dev,>=1.32.0->google-cloud-aiplatform) (2.31.0)\n",
      "Requirement already satisfied: grpcio<2.0dev,>=1.33.2 in c:\\users\\usuario\\appdata\\local\\packages\\pythonsoftwarefoundation.python.3.10_qbz5n2kfra8p0\\localcache\\local-packages\\python310\\site-packages (from google-api-core[grpc]!=2.0.*,!=2.1.*,!=2.2.*,!=2.3.*,!=2.4.*,!=2.5.*,!=2.6.*,!=2.7.*,<3.0.0dev,>=1.32.0->google-cloud-aiplatform) (1.56.2)\n",
      "Requirement already satisfied: grpcio-status<2.0.dev0,>=1.33.2 in c:\\users\\usuario\\appdata\\local\\packages\\pythonsoftwarefoundation.python.3.10_qbz5n2kfra8p0\\localcache\\local-packages\\python310\\site-packages (from google-api-core[grpc]!=2.0.*,!=2.1.*,!=2.2.*,!=2.3.*,!=2.4.*,!=2.5.*,!=2.6.*,!=2.7.*,<3.0.0dev,>=1.32.0->google-cloud-aiplatform) (1.56.2)\n",
      "Requirement already satisfied: google-cloud-core<3.0.0dev,>=1.6.0 in c:\\users\\usuario\\appdata\\local\\packages\\pythonsoftwarefoundation.python.3.10_qbz5n2kfra8p0\\localcache\\local-packages\\python310\\site-packages (from google-cloud-bigquery<4.0.0dev,>=1.15.0->google-cloud-aiplatform) (2.4.1)\n",
      "Requirement already satisfied: google-resumable-media<3.0dev,>=0.6.0 in c:\\users\\usuario\\appdata\\local\\packages\\pythonsoftwarefoundation.python.3.10_qbz5n2kfra8p0\\localcache\\local-packages\\python310\\site-packages (from google-cloud-bigquery<4.0.0dev,>=1.15.0->google-cloud-aiplatform) (2.7.0)\n",
      "Requirement already satisfied: python-dateutil<3.0dev,>=2.7.2 in c:\\users\\usuario\\appdata\\local\\packages\\pythonsoftwarefoundation.python.3.10_qbz5n2kfra8p0\\localcache\\local-packages\\python310\\site-packages (from google-cloud-bigquery<4.0.0dev,>=1.15.0->google-cloud-aiplatform) (2.8.2)\n",
      "Collecting grpc-google-iam-v1<1.0.0dev,>=0.12.4 (from google-cloud-resource-manager<3.0.0dev,>=1.3.3->google-cloud-aiplatform)\n",
      "  Downloading grpc_google_iam_v1-0.13.0-py2.py3-none-any.whl.metadata (3.3 kB)\n",
      "Requirement already satisfied: google-crc32c<2.0dev,>=1.0 in c:\\users\\usuario\\appdata\\local\\packages\\pythonsoftwarefoundation.python.3.10_qbz5n2kfra8p0\\localcache\\local-packages\\python310\\site-packages (from google-cloud-storage<3.0.0dev,>=1.32.0->google-cloud-aiplatform) (1.5.0)\n",
      "Requirement already satisfied: numpy>=1.14 in c:\\users\\usuario\\appdata\\local\\packages\\pythonsoftwarefoundation.python.3.10_qbz5n2kfra8p0\\localcache\\local-packages\\python310\\site-packages (from shapely<3.0.0dev->google-cloud-aiplatform) (1.25.2)\n",
      "Requirement already satisfied: cachetools<6.0,>=2.0.0 in c:\\users\\usuario\\appdata\\local\\packages\\pythonsoftwarefoundation.python.3.10_qbz5n2kfra8p0\\localcache\\local-packages\\python310\\site-packages (from google-auth<3.0.dev0,>=2.14.1->google-api-core!=2.0.*,!=2.1.*,!=2.2.*,!=2.3.*,!=2.4.*,!=2.5.*,!=2.6.*,!=2.7.*,<3.0.0dev,>=1.32.0->google-api-core[grpc]!=2.0.*,!=2.1.*,!=2.2.*,!=2.3.*,!=2.4.*,!=2.5.*,!=2.6.*,!=2.7.*,<3.0.0dev,>=1.32.0->google-cloud-aiplatform) (5.3.1)\n",
      "Requirement already satisfied: pyasn1-modules>=0.2.1 in c:\\users\\usuario\\appdata\\local\\packages\\pythonsoftwarefoundation.python.3.10_qbz5n2kfra8p0\\localcache\\local-packages\\python310\\site-packages (from google-auth<3.0.dev0,>=2.14.1->google-api-core!=2.0.*,!=2.1.*,!=2.2.*,!=2.3.*,!=2.4.*,!=2.5.*,!=2.6.*,!=2.7.*,<3.0.0dev,>=1.32.0->google-api-core[grpc]!=2.0.*,!=2.1.*,!=2.2.*,!=2.3.*,!=2.4.*,!=2.5.*,!=2.6.*,!=2.7.*,<3.0.0dev,>=1.32.0->google-cloud-aiplatform) (0.3.0)\n",
      "Requirement already satisfied: rsa<5,>=3.1.4 in c:\\users\\usuario\\appdata\\local\\packages\\pythonsoftwarefoundation.python.3.10_qbz5n2kfra8p0\\localcache\\local-packages\\python310\\site-packages (from google-auth<3.0.dev0,>=2.14.1->google-api-core!=2.0.*,!=2.1.*,!=2.2.*,!=2.3.*,!=2.4.*,!=2.5.*,!=2.6.*,!=2.7.*,<3.0.0dev,>=1.32.0->google-api-core[grpc]!=2.0.*,!=2.1.*,!=2.2.*,!=2.3.*,!=2.4.*,!=2.5.*,!=2.6.*,!=2.7.*,<3.0.0dev,>=1.32.0->google-cloud-aiplatform) (4.9)\n",
      "Requirement already satisfied: six>=1.5 in c:\\users\\usuario\\appdata\\local\\packages\\pythonsoftwarefoundation.python.3.10_qbz5n2kfra8p0\\localcache\\local-packages\\python310\\site-packages (from python-dateutil<3.0dev,>=2.7.2->google-cloud-bigquery<4.0.0dev,>=1.15.0->google-cloud-aiplatform) (1.16.0)\n",
      "Requirement already satisfied: charset-normalizer<4,>=2 in c:\\users\\usuario\\appdata\\local\\packages\\pythonsoftwarefoundation.python.3.10_qbz5n2kfra8p0\\localcache\\local-packages\\python310\\site-packages (from requests<3.0.0.dev0,>=2.18.0->google-api-core!=2.0.*,!=2.1.*,!=2.2.*,!=2.3.*,!=2.4.*,!=2.5.*,!=2.6.*,!=2.7.*,<3.0.0dev,>=1.32.0->google-api-core[grpc]!=2.0.*,!=2.1.*,!=2.2.*,!=2.3.*,!=2.4.*,!=2.5.*,!=2.6.*,!=2.7.*,<3.0.0dev,>=1.32.0->google-cloud-aiplatform) (3.1.0)\n",
      "Requirement already satisfied: idna<4,>=2.5 in c:\\users\\usuario\\appdata\\local\\packages\\pythonsoftwarefoundation.python.3.10_qbz5n2kfra8p0\\localcache\\local-packages\\python310\\site-packages (from requests<3.0.0.dev0,>=2.18.0->google-api-core!=2.0.*,!=2.1.*,!=2.2.*,!=2.3.*,!=2.4.*,!=2.5.*,!=2.6.*,!=2.7.*,<3.0.0dev,>=1.32.0->google-api-core[grpc]!=2.0.*,!=2.1.*,!=2.2.*,!=2.3.*,!=2.4.*,!=2.5.*,!=2.6.*,!=2.7.*,<3.0.0dev,>=1.32.0->google-cloud-aiplatform) (3.4)\n",
      "Requirement already satisfied: urllib3<3,>=1.21.1 in c:\\users\\usuario\\appdata\\local\\packages\\pythonsoftwarefoundation.python.3.10_qbz5n2kfra8p0\\localcache\\local-packages\\python310\\site-packages (from requests<3.0.0.dev0,>=2.18.0->google-api-core!=2.0.*,!=2.1.*,!=2.2.*,!=2.3.*,!=2.4.*,!=2.5.*,!=2.6.*,!=2.7.*,<3.0.0dev,>=1.32.0->google-api-core[grpc]!=2.0.*,!=2.1.*,!=2.2.*,!=2.3.*,!=2.4.*,!=2.5.*,!=2.6.*,!=2.7.*,<3.0.0dev,>=1.32.0->google-cloud-aiplatform) (1.26.18)\n",
      "Requirement already satisfied: certifi>=2017.4.17 in c:\\users\\usuario\\appdata\\local\\packages\\pythonsoftwarefoundation.python.3.10_qbz5n2kfra8p0\\localcache\\local-packages\\python310\\site-packages (from requests<3.0.0.dev0,>=2.18.0->google-api-core!=2.0.*,!=2.1.*,!=2.2.*,!=2.3.*,!=2.4.*,!=2.5.*,!=2.6.*,!=2.7.*,<3.0.0dev,>=1.32.0->google-api-core[grpc]!=2.0.*,!=2.1.*,!=2.2.*,!=2.3.*,!=2.4.*,!=2.5.*,!=2.6.*,!=2.7.*,<3.0.0dev,>=1.32.0->google-cloud-aiplatform) (2023.5.7)\n",
      "Requirement already satisfied: pyasn1<0.6.0,>=0.4.6 in c:\\users\\usuario\\appdata\\local\\packages\\pythonsoftwarefoundation.python.3.10_qbz5n2kfra8p0\\localcache\\local-packages\\python310\\site-packages (from pyasn1-modules>=0.2.1->google-auth<3.0.dev0,>=2.14.1->google-api-core!=2.0.*,!=2.1.*,!=2.2.*,!=2.3.*,!=2.4.*,!=2.5.*,!=2.6.*,!=2.7.*,<3.0.0dev,>=1.32.0->google-api-core[grpc]!=2.0.*,!=2.1.*,!=2.2.*,!=2.3.*,!=2.4.*,!=2.5.*,!=2.6.*,!=2.7.*,<3.0.0dev,>=1.32.0->google-cloud-aiplatform) (0.5.0)\n",
      "Downloading google_cloud_aiplatform-1.41.0-py2.py3-none-any.whl (3.5 MB)\n",
      "   ---------------------------------------- 0.0/3.5 MB ? eta -:--:--\n",
      "   ---------------------------------------- 0.0/3.5 MB ? eta -:--:--\n",
      "   - -------------------------------------- 0.1/3.5 MB 1.3 MB/s eta 0:00:03\n",
      "   -- ------------------------------------- 0.2/3.5 MB 1.5 MB/s eta 0:00:03\n",
      "   --- ------------------------------------ 0.3/3.5 MB 1.7 MB/s eta 0:00:02\n",
      "   ---- ----------------------------------- 0.4/3.5 MB 1.9 MB/s eta 0:00:02\n",
      "   ----- ---------------------------------- 0.5/3.5 MB 1.8 MB/s eta 0:00:02\n",
      "   ----- ---------------------------------- 0.5/3.5 MB 1.7 MB/s eta 0:00:02\n",
      "   ------ --------------------------------- 0.6/3.5 MB 1.7 MB/s eta 0:00:02\n",
      "   -------- ------------------------------- 0.7/3.5 MB 1.8 MB/s eta 0:00:02\n",
      "   --------- ------------------------------ 0.8/3.5 MB 1.8 MB/s eta 0:00:02\n",
      "   ---------- ----------------------------- 0.9/3.5 MB 1.9 MB/s eta 0:00:02\n",
      "   ----------- ---------------------------- 1.0/3.5 MB 1.9 MB/s eta 0:00:02\n",
      "   ------------- -------------------------- 1.2/3.5 MB 2.0 MB/s eta 0:00:02\n",
      "   -------------- ------------------------- 1.3/3.5 MB 2.0 MB/s eta 0:00:02\n",
      "   ---------------- ----------------------- 1.4/3.5 MB 2.0 MB/s eta 0:00:02\n",
      "   ----------------- ---------------------- 1.5/3.5 MB 2.1 MB/s eta 0:00:01\n",
      "   ------------------ --------------------- 1.6/3.5 MB 2.1 MB/s eta 0:00:01\n",
      "   --------------------- ------------------ 1.8/3.5 MB 2.3 MB/s eta 0:00:01\n",
      "   ---------------------- ----------------- 2.0/3.5 MB 2.3 MB/s eta 0:00:01\n",
      "   ------------------------ --------------- 2.2/3.5 MB 2.4 MB/s eta 0:00:01\n",
      "   --------------------------- ------------ 2.4/3.5 MB 2.4 MB/s eta 0:00:01\n",
      "   ----------------------------- ---------- 2.5/3.5 MB 2.5 MB/s eta 0:00:01\n",
      "   ------------------------------ --------- 2.7/3.5 MB 2.6 MB/s eta 0:00:01\n",
      "   --------------------------------- ------ 2.9/3.5 MB 2.7 MB/s eta 0:00:01\n",
      "   ----------------------------------- ---- 3.1/3.5 MB 2.7 MB/s eta 0:00:01\n",
      "   ----------------------------------- ---- 3.1/3.5 MB 2.7 MB/s eta 0:00:01\n",
      "   ----------------------------------- ---- 3.1/3.5 MB 2.7 MB/s eta 0:00:01\n",
      "   ----------------------------------- ---- 3.1/3.5 MB 2.7 MB/s eta 0:00:01\n",
      "   ----------------------------------- ---- 3.1/3.5 MB 2.7 MB/s eta 0:00:01\n",
      "   ----------------------------------- ---- 3.1/3.5 MB 2.7 MB/s eta 0:00:01\n",
      "   ----------------------------------- ---- 3.1/3.5 MB 2.7 MB/s eta 0:00:01\n",
      "   -------------------------------------- - 3.4/3.5 MB 2.4 MB/s eta 0:00:01\n",
      "   ---------------------------------------  3.4/3.5 MB 2.3 MB/s eta 0:00:01\n",
      "   ---------------------------------------  3.5/3.5 MB 2.3 MB/s eta 0:00:01\n",
      "   ---------------------------------------- 3.5/3.5 MB 2.2 MB/s eta 0:00:00\n",
      "Downloading google_cloud_bigquery-3.17.2-py2.py3-none-any.whl (230 kB)\n",
      "   ---------------------------------------- 0.0/230.3 kB ? eta -:--:--\n",
      "   ---------------------------------------  225.3/230.3 kB 6.9 MB/s eta 0:00:01\n",
      "   ---------------------------------------- 230.3/230.3 kB 4.7 MB/s eta 0:00:00\n",
      "Downloading google_cloud_resource_manager-1.12.1-py2.py3-none-any.whl (333 kB)\n",
      "   ---------------------------------------- 0.0/333.9 kB ? eta -:--:--\n",
      "   ------------------------------ --------- 256.0/333.9 kB 5.3 MB/s eta 0:00:01\n",
      "   ---------------------------------------- 333.9/333.9 kB 5.2 MB/s eta 0:00:00\n",
      "Downloading shapely-2.0.2-cp310-cp310-win_amd64.whl (1.4 MB)\n",
      "   ---------------------------------------- 0.0/1.4 MB ? eta -:--:--\n",
      "   ------ --------------------------------- 0.2/1.4 MB 6.9 MB/s eta 0:00:01\n",
      "   -------- ------------------------------- 0.3/1.4 MB 3.8 MB/s eta 0:00:01\n",
      "   ----------- ---------------------------- 0.4/1.4 MB 5.0 MB/s eta 0:00:01\n",
      "   -------------- ------------------------- 0.5/1.4 MB 2.9 MB/s eta 0:00:01\n",
      "   -------------------- ------------------- 0.7/1.4 MB 3.6 MB/s eta 0:00:01\n",
      "   ------------------------- -------------- 0.9/1.4 MB 3.2 MB/s eta 0:00:01\n",
      "   ------------------------------- -------- 1.1/1.4 MB 3.6 MB/s eta 0:00:01\n",
      "   ---------------------------------------  1.4/1.4 MB 3.9 MB/s eta 0:00:01\n",
      "   ---------------------------------------- 1.4/1.4 MB 3.7 MB/s eta 0:00:00\n",
      "Downloading grpc_google_iam_v1-0.13.0-py2.py3-none-any.whl (25 kB)\n",
      "Installing collected packages: shapely, grpc-google-iam-v1, google-cloud-resource-manager, google-cloud-bigquery, google-cloud-aiplatform\n",
      "Successfully installed google-cloud-aiplatform-1.41.0 google-cloud-bigquery-3.17.2 google-cloud-resource-manager-1.12.1 grpc-google-iam-v1-0.13.0 shapely-2.0.2\n"
     ]
    },
    {
     "name": "stderr",
     "output_type": "stream",
     "text": [
      "\n",
      "[notice] A new release of pip is available: 23.3.2 -> 24.0\n",
      "[notice] To update, run: C:\\Users\\usuario\\AppData\\Local\\Microsoft\\WindowsApps\\PythonSoftwareFoundation.Python.3.10_qbz5n2kfra8p0\\python.exe -m pip install --upgrade pip\n"
     ]
    }
   ],
   "source": [
    "# !pip install kfp\n",
    "# !pip install google-cloud-aiplatform\n"
   ]
  },
  {
   "cell_type": "markdown",
   "id": "0375bdae-dd98-4ef0-ad3d-3ae44a5ec525",
   "metadata": {},
   "source": [
    "## FOR TRAINING PIPELINE"
   ]
  },
  {
   "cell_type": "code",
   "execution_count": 2,
   "id": "9f2902a6-289e-43aa-bf9f-e4efc881a73a",
   "metadata": {
    "tags": []
   },
   "outputs": [
    {
     "name": "stdout",
     "output_type": "stream",
     "text": [
      "Creating PipelineJob\n",
      "PipelineJob created. Resource name: projects/608375853532/locations/us-central1/pipelineJobs/mlops-mle-template-train-20240208214538\n",
      "To use this PipelineJob in another session:\n",
      "pipeline_job = aiplatform.PipelineJob.get('projects/608375853532/locations/us-central1/pipelineJobs/mlops-mle-template-train-20240208214538')\n",
      "View Pipeline Job:\n",
      "https://console.cloud.google.com/vertex-ai/locations/us-central1/pipelines/runs/mlops-mle-template-train-20240208214538?project=608375853532\n"
     ]
    }
   ],
   "source": [
    "!python -c \"from app import train_pipeline; train_pipeline()\""
   ]
  },
  {
   "cell_type": "markdown",
   "id": "885cdc48-1d23-4667-a03e-fe846a866a89",
   "metadata": {},
   "source": [
    "## FOR PREDICTION PIPELINE"
   ]
  },
  {
   "cell_type": "code",
   "execution_count": null,
   "id": "f807c7a5-fe17-41d2-9398-22f11f7c113c",
   "metadata": {},
   "outputs": [],
   "source": [
    "!python -c \"from app import predict_pipeline; predict_pipeline()\"\n"
   ]
  },
  {
   "cell_type": "code",
   "execution_count": null,
   "id": "f6ac8af7",
   "metadata": {},
   "outputs": [],
   "source": []
  }
 ],
 "metadata": {
  "environment": {
   "kernel": "conda-base-py",
   "name": "workbench-notebooks.m120",
   "type": "gcloud",
   "uri": "us-docker.pkg.dev/deeplearning-platform-release/gcr.io/workbench-notebooks:m120"
  },
  "kernelspec": {
   "display_name": "lewagon",
   "language": "python",
   "name": "python3"
  },
  "language_info": {
   "codemirror_mode": {
    "name": "ipython",
    "version": 3
   },
   "file_extension": ".py",
   "mimetype": "text/x-python",
   "name": "python",
   "nbconvert_exporter": "python",
   "pygments_lexer": "ipython3",
   "version": "3.10.6"
  }
 },
 "nbformat": 4,
 "nbformat_minor": 5
}
